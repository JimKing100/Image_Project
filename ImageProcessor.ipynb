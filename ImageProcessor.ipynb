{
 "cells": [
  {
   "cell_type": "code",
   "execution_count": 15,
   "metadata": {},
   "outputs": [],
   "source": [
    "'Image Pre-Processing Program'\n",
    "\n",
    "import os\n",
    "import re\n",
    "import imghdr\n",
    "\n",
    "from PIL import Image, ImageOps\n",
    "\n",
    "IMAGE_DIR = '/Users/JKMacBook/Documents/Lambda/ImageProject/ImagesPreProcess'\n",
    "GRAY_DIR = '/Users/JKMacBook/Documents/Lambda/ImageProject/ImagesProcessed'\n",
    "\n",
    "for root, dirs, files in os.walk(IMAGE_DIR, topdown=True):\n",
    "   for name in files:\n",
    "     image_type = imghdr.what(os.path.join(root, name))\n",
    "     if image_type:\n",
    "       img = Image.open(os.path.join(root, name))\n",
    "       size_img = img.resize((240, 160))\n",
    "       gray_img = ImageOps.grayscale(size_img)\n",
    "       gray_img.save(GRAY_DIR + '/' + name)\n",
    "   "
   ]
  }
 ],
 "metadata": {
  "kernelspec": {
   "display_name": "Python 3",
   "language": "python",
   "name": "python3"
  },
  "language_info": {
   "codemirror_mode": {
    "name": "ipython",
    "version": 3
   },
   "file_extension": ".py",
   "mimetype": "text/x-python",
   "name": "python",
   "nbconvert_exporter": "python",
   "pygments_lexer": "ipython3",
   "version": "3.7.4"
  }
 },
 "nbformat": 4,
 "nbformat_minor": 2
}
