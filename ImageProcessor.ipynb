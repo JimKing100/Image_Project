{
 "cells": [
  {
   "cell_type": "code",
   "execution_count": 17,
   "metadata": {},
   "outputs": [],
   "source": [
    "'Image Pre-Processing Program'\n",
    "\n",
    "import os\n",
    "import imghdr\n",
    "\n",
    "from PIL import Image, ImageOps\n",
    "\n",
    "IMAGE_DIR = '/Users/JKMacBook/Documents/Lambda/ImageProject/ImagesPreProcess'\n",
    "GRAY_DIR = '/Users/JKMacBook/Documents/Lambda/ImageProject/ImagesProcessed'\n",
    "resize_width = 240\n",
    "resize_height = 160\n",
    "\n",
    "def image_preprocess(img_dir, gray_dir, width, height):\n",
    "  for root, dirs, files in os.walk(IMAGE_DIR, topdown=True):\n",
    "     for name in files:\n",
    "       image_type = imghdr.what(os.path.join(root, name))\n",
    "       if image_type:\n",
    "         img = Image.open(os.path.join(root, name))\n",
    "         size_img = img.resize((resize_width, resize_height))\n",
    "         gray_img = ImageOps.grayscale(size_img)\n",
    "         gray_img.save(GRAY_DIR + '/' + name)\n",
    "  return \n",
    "\n",
    "image_preprocess(IMAGE_DIR, GRAY_DIR, resize_width, resize_height)\n",
    "   "
   ]
  }
 ],
 "metadata": {
  "kernelspec": {
   "display_name": "Python 3",
   "language": "python",
   "name": "python3"
  },
  "language_info": {
   "codemirror_mode": {
    "name": "ipython",
    "version": 3
   },
   "file_extension": ".py",
   "mimetype": "text/x-python",
   "name": "python",
   "nbconvert_exporter": "python",
   "pygments_lexer": "ipython3",
   "version": "3.7.4"
  }
 },
 "nbformat": 4,
 "nbformat_minor": 2
}
